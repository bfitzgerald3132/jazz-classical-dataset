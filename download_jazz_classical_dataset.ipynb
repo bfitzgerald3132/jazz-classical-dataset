{
 "cells": [
  {
   "cell_type": "code",
   "execution_count": 1,
   "id": "7cbb1d2e-c8dd-4129-b014-4ef56a39b1c3",
   "metadata": {
    "tags": []
   },
   "outputs": [],
   "source": [
    "from pytube import YouTube\n",
    "from moviepy import editor as mp\n",
    "from matplotlib import pyplot as plt\n",
    "from pydub import AudioSegment\n",
    "import wave\n",
    "import numpy as np\n",
    "import os\n",
    "import random"
   ]
  },
  {
   "cell_type": "code",
   "execution_count": 24,
   "id": "8387dba2-dcc1-441d-a65d-fda19d61a8c7",
   "metadata": {
    "tags": []
   },
   "outputs": [],
   "source": [
    "# Define parameters\n",
    "LENGTH_OF_CLIP = 5000\n",
    "NUMBER_OF_CLIPS = 1500\n",
    "BASE_PATH = \"TODO ADD PATH" # Omit terminating slash"
   ]
  },
  {
   "cell_type": "code",
   "execution_count": null,
   "id": "dce83733-c5e7-4d06-91db-d025dba94276",
   "metadata": {},
   "outputs": [],
   "source": [
    "# Define clips\n",
    "classical_clips = [\n",
    "    [\"https://www.youtube.com/watch?v=t3217H8JppI\", \"beethoven_a\"],\n",
    "    [\"https://www.youtube.com/watch?v=0Ak_7tTxZrk\", \"beethoven_b\"],\n",
    "    [\"https://www.youtube.com/watch?v=qcuaN3jN29Q\", \"verdi\"],\n",
    "    [\"https://www.youtube.com/watch?v=SVnF3x44rvU\", \"tchaikovsky\"],\n",
    "    [\"https://www.youtube.com/watch?v=JH3T6YwwU9s\", \"handel\"],\n",
    "    [\"https://www.youtube.com/watch?v=3FLbiDrn8IE\", \"bach\"],\n",
    "    [\"https://www.youtube.com/watch?v=Hk0rWMWHLA4\", \"wagner\"],\n",
    "    [\"https://www.youtube.com/watch?v=PK92oCLrOag\", \"mozart\"],\n",
    "    [\"https://www.youtube.com/watch?v=rP42C-4zL3w\", \"stravinasky\"], #rite of spring\n",
    "    [\"https://www.youtube.com/watch?v=Qut5e3OfCvg\", \"dvorak\"], #new world\n",
    "    [\"https://www.youtube.com/watch?v=wh1Ky7gj4vw\", \"schubert\"], #winterreise\n",
    "    [\"https://www.youtube.com/watch?v=tUe-clNbnBE\", \"brahms\"], #hungarian dances\n",
    "    [\"https://www.youtube.com/watch?v=Ynky7qoPnUU\", \"schumann\"], # op. 54\n",
    "    [\"https://www.youtube.com/watch?v=SEkcP8lZvZA\", \"mendelssohn\"], #op. 21\n",
    "    [\"https://www.youtube.com/watch?v=O31KPk5xnBg\", \"mussorgsky\"], #pictures at exhibition\n",
    "    [\"https://www.youtube.com/watch?v=9E6b3swbnWg\", \"chopin\"], #op 9\n",
    "    [\"https://www.youtube.com/watch?v=buw9zpwSg7M\", \"berlioz\"], # h 48\n",
    "    [\"https://www.youtube.com/watch?v=H_1OtRt0_ho\", \"puccini\"], # la boheme\n",
    "    [\"https://www.youtube.com/watch?v=IeKMMDxrsBE\", \"liszt\"], # s. 178\n",
    "    #[\"https://www.youtube.com/watch?v=GRxofEmo3HA\", \"vivaldi\"], # four seasons\n",
    "    [\"https://www.youtube.com/watch?v=IFPwm0e_K98\", \"strauss_r\"], # also sprach zarathurstra\n",
    "    [\"https://www.youtube.com/watch?v=vOvXhyldUko\", \"mahler_g\"], # ORCHESTRA TUNES AT BEGINNING. no 5\n",
    "    [\"https://www.youtube.com/watch?v=iXU8EXL7a_4\", \"sibelius_j\"], # op 43\n",
    "    [\"https://www.youtube.com/watch?v=UnilUPXmipM\", \"faure\"], # requiem d minor\n",
    "    [\"https://www.youtube.com/watch?v=rEGOihjqO9w\", \"rachmaninoff\"], #op 18\n",
    "    [\"https://www.youtube.com/watch?v=A12T7kra0Eo\", \"debussy\"], #la mer\n",
    "    [\"https://www.youtube.com/watch?v=I1Yoyz6_Los\", \"grieg_e\"], # op 16\n",
    "    [\"https://www.youtube.com/watch?v=fSJwP5dvzPg\", \"shostakovich\"], # op 93\n",
    "    [\"https://www.youtube.com/watch?v=-LGjLBzAhKw\", \"copland_a\"], # Appalachian spring\n",
    "    [\"https://www.youtube.com/watch?v=eFccAm9C8hk\", \"bizet\"], #carmen orchestrial suite\n",
    "    [\"https://www.youtube.com/watch?v=17lEx0ytE_0\", \"rimsky_korsakov\"], # scheherazade, op 35\n",
    "    [\"https://www.youtube.com/watch?v=BRfF7W4El60\", \"palestrina\"], # missa papae marcelli\n",
    "    [\"https://www.youtube.com/watch?v=FFQ00FHVSGg\", \"bruckner_a\"], # wab 107\n",
    "    [\"https://www.youtube.com/watch?v=9uwpuyc7nS4\", \"bartok\"], # concerto for orchestra, bb 123\n",
    "]\n",
    "# Taken (mostly) from https://www.newyorker.com/magazine/2008/05/19/100-essential-jazz-albums\n",
    "jazz_clips = [\n",
    "    [\"https://www.youtube.com/watch?v=vDqULFUg6CY\", \"davis\"], #kind of blue\n",
    "    [\"https://www.youtube.com/watch?v=MiZp563Jnso\", \"armstrong\"], #the very best of Louis a\n",
    "    [\"https://www.youtube.com/watch?v=1-JUy1qrKos\", \"ellington\"], #ellington uptown\n",
    "    [\"https://www.youtube.com/watch?v=QXeEXnhuFzk\", \"fitzgerald\"], #but not for me\n",
    "    [\"https://www.youtube.com/watch?v=yOKtvLqzhBg\", \"parker\"], #the essential\n",
    "    [\"https://www.youtube.com/watch?v=gncbydxqE4Y\", \"holiday\"], #lady in satin\n",
    "    [\"https://www.youtube.com/watch?v=v5eypUpQc7M\", \"evans\"], #portrait in jazz complete\n",
    "    [\"https://www.youtube.com/watch?v=OXvS8ns9myY\", \"peterson\"], #sound of the trio\n",
    "    [\"https://www.youtube.com/watch?v=B60tL9LdnbM\", \"lincoln\"], #straight ahead\n",
    "    [\"https://www.youtube.com/watch?v=lBH-6CJYdJ4\", \"blakey\"], #free for all\n",
    "    [\"https://www.youtube.com/watch?v=KJifh-S2Hw4\", \"tatum\"], #tatum and ben webster\n",
    "    [\"https://www.youtube.com/watch?v=Ugxs64vQLbI\", \"carter\"], #the best of betty carter\n",
    "    [\"https://www.youtube.com/watch?v=EAAfJ8mmVY4\", \"buddy_rich\"], #the wailing buddy rich\n",
    "    [\"https://www.youtube.com/watch?v=D821Atw0HwQ\", \"adderley\"], #portrait of\n",
    "    [\"https://www.youtube.com/watch?v=N_k0CF1VnNg\", \"beiderbecke\"],\n",
    "    [\"https://www.youtube.com/watch?v=4qQVcjXopZo\", \"waller\"],\n",
    "    [\"https://www.youtube.com/watch?v=WBAF1iGsGw0\", \"king_oliver\"],\n",
    "    [\"https://www.youtube.com/watch?v=6ExvOmkmya4\", \"reinhardt\"], #sultan of swing\n",
    "    [\"https://www.youtube.com/watch?v=L9kfPeTgOX4\", \"jelly_roll_morton\"], # original recordings\n",
    "    [\"https://www.youtube.com/watch?v=ahxEN2GHUYA\", \"bechet\"], # fabulous SB\n",
    "    [\"https://www.youtube.com/watch?v=xO2RWWqZqOc\", \"hawkins\"], # nighthawk\n",
    "    [\"https://www.youtube.com/watch?v=qNrsOYF1qqw\", \"wilson_t\"], # best piano recordings\n",
    "    [\"https://www.youtube.com/watch?v=coRFTtAco70\", \"young_l\"], # oscar peterson trio\n",
    "    [\"https://www.youtube.com/watch?v=MyM-PlLWxco\", \"basie\"], # complete atomic basie\n",
    "    [\"https://www.youtube.com/watch?v=xqTtM8Bv9vM\", \"goodman\"], # best of BG\n",
    "    [\"https://www.youtube.com/watch?v=ir-1Fzdu7zE\", \"shavers_c\"], #charlie shavers\n",
    "    [\"https://www.youtube.com/watch?v=Kze9ZLwAZuA\", \"chick_w\"], # chick webb saga\n",
    "    [\"https://www.youtube.com/watch?v=NuaCviiAUSk\", \"carter_b\"], #further definitions\n",
    "    [\"https://www.youtube.com/watch?v=iMOPcWSz9ro\", \"johnson_jp\"], # fats walker\n",
    "    [\"https://www.youtube.com/watch?v=RUQsczC8wkk\", \"nat_king_cole_trio\"], #after midnight\n",
    "    [\"https://www.youtube.com/watch?v=pden8LSWMkY\", \"dizzy_gillespie\"], #\n",
    "    [\"https://www.youtube.com/watch?v=i61gSKmeQ74\", \"monk\"], # solo monk\n",
    "    [\"https://www.youtube.com/watch?v=vJmSy-0mI_w\", \"marsh_w\"], #live at hollywood\n",
    "    [\"https://www.youtube.com/watch?v=7mbsSQPQsPc\", \"powell_b\"], #the scene changes\n",
    "    [\"https://www.youtube.com/watch?v=q9Cgj9NH-kY\", \"mulligan_g\"], #quartet\n",
    "    [\"https://www.youtube.com/watch?v=5MwwS8ZAbr8\", \"brown_n_roach\"], \n",
    "    [\"https://www.youtube.com/watch?v=fVsSIVL2qog\", \"vaughan_s\"], \n",
    "    [\"https://www.youtube.com/watch?v=kqOJ6UI6_3w\", \"mingus\"], # FIRST FEW SECS A BIT CLASSICAL-LY\n",
    "    [\"https://www.youtube.com/watch?v=PI7Jsasfp54\", \"rollins_s\"], # out west\n",
    "    [\"https://www.youtube.com/watch?v=xM_GrwYQUtg\", \"puente\"], # best of\n",
    "    [\"https://www.youtube.com/watch?v=s3xjnM64g-A\", \"sun_ra\"], \n",
    "    [\"https://www.youtube.com/watch?v=RAena9F9oSE\", \"jamal_a\"], # session 1971\n",
    "    [\"https://www.youtube.com/watch?v=Vc1BDi1XN2Q\", \"brubeck_d\"], # the essential\n",
    "    [\"https://www.youtube.com/watch?v=RyRTQKljxIM\", \"witherspoon_j\"], #live at the mint\n",
    "    [\"https://www.youtube.com/watch?v=ua5S8UmoeWs\", \"ornette_c\"], # body meta\n",
    "    [\"https://www.youtube.com/watch?v=p7uVPze7c3o\", \"hubbard\"], #open sesame\n",
    "    [\"https://www.youtube.com/watch?v=U1mQzxx3zMI\", \"smith_j\"], # salle pleyel\n",
    "    [\"https://www.youtube.com/watch?v=hD97alvMF9s\", \"washington_d\"], # greatest hits\n",
    "    [\"https://www.youtube.com/watch?v=VBBWqbPaJgs\", \"coltrane\"], #blue train\n",
    "    [\"https://www.youtube.com/watch?v=zRekHkcS2X0\", \"dolphy_e\"], # out to lunch\n",
    "    [\"https://www.youtube.com/watch?v=poz_xCQMRSU\", \"mclean_j\"], # a fickle sonance\n",
    "    [\"https://www.youtube.com/watch?v=hyaTChd-7BY\", \"getz_s\"], # sg at large\n",
    "    [\"https://www.youtube.com/watch?v=X9npugsswT0\", \"gordon_d\"], # the complete blue note\n",
    "    [\"https://www.youtube.com/watch?v=tPkyAs3na1Q\", \"hill_a\"], # point of departure\n",
    "    [\"https://www.youtube.com/watch?v=z59xUDv15hw\", \"morgan_l\"], # sonic boom\n",
    "    [\"https://www.youtube.com/watch?v=xWsIG5sNq1Q\", \"ayler_a\"], # spiritual unity\n",
    "    [\"https://www.youtube.com/watch?v=ZTYDEcp-a5Y\", \"shepp_a\"],\n",
    "    [\"https://www.youtube.com/watch?v=nW810DEscVI\", \"silver_h\"], #six pieces of silver\n",
    "    [\"https://www.youtube.com/watch?v=IFBeo0cGu7c\", \"montgomery_w\"], #very best of\n",
    "    [\"https://www.youtube.com/watch?v=5yJWcxzZBVE\", \"taylor_c\"], #conquistador\n",
    "    [\"https://www.youtube.com/watch?v=FghBZ7mL4c4\", \"sinatra_f\"], # greatest hits\n",
    "    [\"https://www.youtube.com/watch?v=KRLwsSbqlwo\", \"chick_c\"], # APPLAUSE AT BEGINNING\n",
    "    [\"https://www.youtube.com/watch?v=bZhTwoO0Fd8\", \"jarrett\"], # the Koln concert\n",
    "    [\"https://www.youtube.com/watch?v=cg9PDNuQiLk\", \"world_saxaphone_quartet\"], \n",
    "    [\"https://www.youtube.com/watch?v=unRwO30PtgM\", \"jones\"], # trio recordings\n",
    "    [\"https://www.youtube.com/watch?v=B6DGPZngY7g\", \"wilson_c\"], #belly of the sun\n",
    "    [\"https://www.youtube.com/watch?v=jS9dscuKsGA\", \"marsalis_w\"], # APPLAUSE AT BEGINNING\n",
    "    [\"https://www.youtube.com/watch?v=w5ETUKz5RGM\", \"charlap_bill\"], # written in the stars\n",
    "]"
   ]
  },
  {
   "cell_type": "code",
   "execution_count": 28,
   "id": "4f5f28ac-0ba3-4bc4-a7d0-2fd60b30d6c8",
   "metadata": {
    "tags": []
   },
   "outputs": [],
   "source": [
    "init_directories()\n",
    "\n",
    "# Load classical clips\n",
    "path = BASE_PATH + \"/dataset/Classical/\"\n",
    "n_clips_per_link = int(NUMBER_OF_CLIPS / 2 / len(classical_clips))\n",
    "download_and_split(path, n_clips_per_link, classical_clips)\n",
    "\n",
    "path = BASE_PATH + \"/dataset/Jazz/\"\n",
    "n_clips_per_link = int(NUMBER_OF_CLIPS / 2 / len(jazz_clips))\n",
    "download_and_split(path, n_clips_per_link, jazz_clips)\n",
    "\n",
    "os.remove(\"output.wav\")"
   ]
  },
  {
   "cell_type": "code",
   "execution_count": 16,
   "id": "8ca04f6f-ead4-4e45-8ba3-2a032b67ee46",
   "metadata": {
    "tags": []
   },
   "outputs": [],
   "source": [
    "def init_directories(old_path=BASE_PATH):\n",
    "    if not old_path.endswith(\"/\"):\n",
    "        old_path += \"/\"\n",
    "    os.makedirs(old_path + \"dataset/\")\n",
    "    os.makedirs(old_path + \"dataset/Classical\")\n",
    "    os.makedirs(old_path + \"dataset/Jazz\")"
   ]
  },
  {
   "cell_type": "code",
   "execution_count": 7,
   "id": "4728c2ae-d46c-421f-9a9b-97c1af4c03cd",
   "metadata": {
    "tags": []
   },
   "outputs": [],
   "source": [
    "def download_and_split(path, n_clips_per_link, list_of_clips):\n",
    "    for clip in list_of_clips:\n",
    "        try:\n",
    "            download(clip, path)\n",
    "            split_mp4_into_wavs(path + clip[1], n_clips_per_link)\n",
    "            print(\"Loaded \" + clip[1])\n",
    "        except Exception as err:\n",
    "            print(\"Exception encountered loading \" + clip[1])\n",
    "            print(err)\n",
    "            continue"
   ]
  },
  {
   "cell_type": "code",
   "execution_count": 8,
   "id": "474bb93d-2570-4ce2-959a-3f1d9323fc72",
   "metadata": {
    "tags": []
   },
   "outputs": [],
   "source": [
    "def download(clip, path):\n",
    "    audio_stream = YouTube(clip[0]).streams.filter(file_extension=\"mp4\")\n",
    "    audio_stream.first().download(output_path=path, filename=clip[1] + \".mp4\")"
   ]
  },
  {
   "cell_type": "code",
   "execution_count": 9,
   "id": "710d64ec-e958-4c15-ab8c-cf22d92eb050",
   "metadata": {
    "tags": []
   },
   "outputs": [],
   "source": [
    "def split_mp4_into_wavs(path, n_clips, length=LENGTH_OF_CLIP):\n",
    "    filename = path.split('/')[-1]\n",
    "    # Insert Local Video File Path\n",
    "    clip = mp.VideoFileClip(path + \".mp4\")\n",
    "\n",
    "    # Insert Local Audio File Path\n",
    "    \n",
    "    clip.audio.write_audiofile(\"output.wav\",codec='pcm_s16le')\n",
    "    clip.close()\n",
    "    \n",
    "    sound = AudioSegment.from_file(\"output.wav\", format=\"wav\", channels=1)\n",
    "        \n",
    "    j = 0\n",
    "    for i in range(n_clips):\n",
    "        j += len(sound) // n_clips\n",
    "        chunk = sound[j:(j + 5000)]\n",
    "        with open(path+\"-%s.wav\" % i, \"wb\") as f:\n",
    "            chunk.export(f, format=\"wav\")\n",
    "    try:\n",
    "        os.remove(path + \".mp4\")\n",
    "    except:\n",
    "        print(filename + \".mp4 could not be removed\")"
   ]
  }
 ],
 "metadata": {
  "kernelspec": {
   "display_name": "Python 3 (ipykernel)",
   "language": "python",
   "name": "python3"
  },
  "language_info": {
   "codemirror_mode": {
    "name": "ipython",
    "version": 3
   },
   "file_extension": ".py",
   "mimetype": "text/x-python",
   "name": "python",
   "nbconvert_exporter": "python",
   "pygments_lexer": "ipython3",
   "version": "3.11.5"
  }
 },
 "nbformat": 4,
 "nbformat_minor": 5
}
